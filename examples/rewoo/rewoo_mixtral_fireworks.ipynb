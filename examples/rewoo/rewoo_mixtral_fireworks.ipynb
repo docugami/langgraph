{
 "cells": [
  {
   "cell_type": "markdown",
   "id": "1c161710-fc66-426f-8c96-28440b9c9626",
   "metadata": {},
   "source": [
    "# Reasoning without Observation (using the open source Mixtral8x7b model running on Fireworks AI)\n",
    "\n",
    "See [rewoo.ipynb](./rewoo.ipynb) for a complete discussion of this technique. This notebook only modifies that example with specific changes required to use an open source model, instead of OpenAI."
   ]
  },
  {
   "cell_type": "code",
   "execution_count": 8,
   "id": "7f52bded-9d23-4826-8bfc-20b0d3a51182",
   "metadata": {},
   "outputs": [
    {
     "name": "stdout",
     "output_type": "stream",
     "text": [
      "Note: you may need to restart the kernel to use updated packages.\n"
     ]
    }
   ],
   "source": [
    "%pip install -U --quiet langgraph langchain_community fireworks_ai tavily-python"
   ]
  },
  {
   "cell_type": "code",
   "execution_count": 9,
   "id": "4215f9fb-71ff-4d88-8484-f73174db5592",
   "metadata": {},
   "outputs": [],
   "source": [
    "import os\n",
    "import getpass\n",
    "\n",
    "\n",
    "def _set_if_undefined(var: str):\n",
    "    if not os.environ.get(var):\n",
    "        os.environ[var] = getpass.getpass(f\"{var}=\")\n",
    "\n",
    "\n",
    "os.environ[\"LANGCHAIN_TRACING_V2\"] = \"true\"\n",
    "os.environ[\"LANGCHAIN_PROJECT\"] = \"ReWOO\"\n",
    "_set_if_undefined(\"TAVILY_API_KEY\")\n",
    "_set_if_undefined(\"LANGCHAIN_API_KEY\")\n",
    "_set_if_undefined(\"OPENAI_API_KEY\")"
   ]
  },
  {
   "cell_type": "markdown",
   "id": "55239a14-a14d-4117-adb5-07199e1e5e16",
   "metadata": {},
   "source": [
    "**Graph State**: In LangGraph, every node updates a shared graph state. The state is the input to any node whenever it is invoked.\n",
    "\n",
    "Below, we will define a state dict to contain the task, plan, steps, and other variables."
   ]
  },
  {
   "cell_type": "code",
   "execution_count": 10,
   "id": "9a92c875-c20b-4b7e-9d88-61c62382f8e2",
   "metadata": {},
   "outputs": [],
   "source": [
    "from typing import TypedDict, List\n",
    "\n",
    "\n",
    "class ReWOO(TypedDict):\n",
    "    task: str\n",
    "    plan_string: str\n",
    "    steps: List\n",
    "    results: dict\n",
    "    result: str"
   ]
  },
  {
   "cell_type": "markdown",
   "id": "997f9181-41c0-4c44-937d-94bd3946a929",
   "metadata": {},
   "source": [
    "## 1. Planner"
   ]
  },
  {
   "cell_type": "code",
   "execution_count": 15,
   "id": "c8836921-c89e-42b6-8c71-27aeaeac5368",
   "metadata": {},
   "outputs": [],
   "source": [
    "from langchain_community.chat_models import ChatFireworks\n",
    "\n",
    "model = ChatFireworks(\n",
    "    model=\"accounts/fireworks/models/mixtral-8x7b-instruct\",  # input context limit is 32k tokens\n",
    "    model_kwargs={\n",
    "        \"context_length_exceeded_behavior\": \"truncate\",\n",
    "        \"temperature\": 0,\n",
    "        \"max_tokens\": 32 * 1024,  # this sets the total token max (input and output)\n",
    "    },\n",
    ")"
   ]
  },
  {
   "cell_type": "code",
   "execution_count": 12,
   "id": "7e7faa92-30a1-4942-b3c7-acd3a7bfccbc",
   "metadata": {},
   "outputs": [],
   "source": [
    "prompt = \"\"\"For the following task, make plans that can solve the problem step by step. For each plan, indicate \\\n",
    "which external tool together with tool input to retrieve evidence. You can store the evidence into a \\\n",
    "variable #E that can be called by later tools. (Plan, #E1, Plan, #E2, Plan, ...)\n",
    "\n",
    "Tools can be one of the following:\n",
    "(1) Google[input]: Worker that searches results from Google. Useful when you need to find short\n",
    "and succinct answers about a specific topic. The input should be a search query.\n",
    "(2) LLM[input]: A pretrained LLM like yourself. Useful when you need to act with general\n",
    "world knowledge and common sense. Prioritize it when you are confident in solving the problem\n",
    "yourself. Input can be any instruction.\n",
    "\n",
    "For example,\n",
    "Task: Thomas, Toby, and Rebecca worked a total of 157 hours in one week. Thomas worked x\n",
    "hours. Toby worked 10 hours less than twice what Thomas worked, and Rebecca worked 8 hours\n",
    "less than Toby. How many hours did Rebecca work?\n",
    "Plan: Given Thomas worked x hours, translate the problem into algebraic expressions and solve\n",
    "with Wolfram Alpha. #E1 = WolframAlpha[Solve x + (2x − 10) + ((2x − 10) − 8) = 157]\n",
    "Plan: Find out the number of hours Thomas worked. #E2 = LLM[What is x, given #E1]\n",
    "Plan: Calculate the number of hours Rebecca worked. #E3 = Calculator[(2 ∗ #E2 − 10) − 8]\n",
    "\n",
    "Begin! \n",
    "Describe your plans with rich details. Each Plan should be followed by only one #E.\n",
    "\n",
    "Task: {task}\"\"\""
   ]
  },
  {
   "cell_type": "code",
   "execution_count": 16,
   "id": "72b4ab0f-7215-4f4b-9407-0ebad8b13b92",
   "metadata": {},
   "outputs": [],
   "source": [
    "task = \"what is the hometown of the 2024 australian open winner\""
   ]
  },
  {
   "cell_type": "code",
   "execution_count": 17,
   "id": "56ecb45b-ea76-4303-a4f3-51406fe8312a",
   "metadata": {},
   "outputs": [],
   "source": [
    "result = model.invoke(prompt.format(task=task))"
   ]
  },
  {
   "cell_type": "code",
   "execution_count": 18,
   "id": "8a733caa-d75b-422c-93aa-6ad913c995f3",
   "metadata": {},
   "outputs": [
    {
     "name": "stdout",
     "output_type": "stream",
     "text": [
      "Plan: Since the 2024 Australian Open winner hasn't been determined yet, I will search for the location of the 2024 Australian Open. #E1 = Google[2024 Australian Open location]\n",
      "Plan: Utilize LLM to determine the hometown of the 2024 Australian Open winner based on the location of the tournament. #E2 = LLM[What is the hometown of a typical winner of the 2024 Australian Open, given #E1?]\n",
      "\n",
      "(Note: Since the specific winner isn't known, I'll provide a general answer based on common sense and general knowledge.)\n"
     ]
    }
   ],
   "source": [
    "print(result.content)"
   ]
  },
  {
   "cell_type": "markdown",
   "id": "37166985-5bec-4615-bd40-54d16fd7b4ea",
   "metadata": {},
   "source": [
    "#### Planner Node"
   ]
  },
  {
   "cell_type": "code",
   "execution_count": 19,
   "id": "f9f042b6-90d8-430f-abf3-04ad2bb047c7",
   "metadata": {},
   "outputs": [],
   "source": [
    "import re\n",
    "from langchain_core.prompts import ChatPromptTemplate\n",
    "\n",
    "# Regex to match expressions of the form E#... = ...[...]\n",
    "regex_pattern = r\"Plan:\\s*(.+)\\s*(#E\\d+)\\s*=\\s*(\\w+)\\s*\\[([^\\]]+)\\]\"\n",
    "prompt_template = ChatPromptTemplate.from_messages([(\"user\", prompt)])\n",
    "planner = prompt_template | model\n",
    "\n",
    "\n",
    "def get_plan(state: ReWOO):\n",
    "    task = state[\"task\"]\n",
    "    result = planner.invoke({\"task\": task})\n",
    "    # Find all matches in the sample text\n",
    "    matches = re.findall(regex_pattern, result.content)\n",
    "    return {\"steps\": matches, \"plan_string\": result.content}"
   ]
  },
  {
   "cell_type": "markdown",
   "id": "0d97942f-27d3-4761-b6cc-6614dbb90c77",
   "metadata": {},
   "source": [
    "## 2. Executor"
   ]
  },
  {
   "cell_type": "code",
   "execution_count": 20,
   "id": "3412cfc4-6796-4295-aea4-7eeb304e10bd",
   "metadata": {},
   "outputs": [],
   "source": [
    "from langchain_community.tools.tavily_search import TavilySearchResults\n",
    "\n",
    "search = TavilySearchResults()"
   ]
  },
  {
   "cell_type": "code",
   "execution_count": 21,
   "id": "aa96fbac-28bc-4afe-ae35-ddb3383d1147",
   "metadata": {},
   "outputs": [],
   "source": [
    "def _get_current_task(state: ReWOO):\n",
    "    if state[\"results\"] is None:\n",
    "        return 1\n",
    "    if len(state[\"results\"]) == len(state[\"steps\"]):\n",
    "        return None\n",
    "    else:\n",
    "        return len(state[\"results\"]) + 1\n",
    "\n",
    "\n",
    "def tool_execution(state: ReWOO):\n",
    "    \"\"\"Worker node that executes the tools of a given plan.\"\"\"\n",
    "    _step = _get_current_task(state)\n",
    "    _, step_name, tool, tool_input = state[\"steps\"][_step - 1]\n",
    "    _results = state[\"results\"] or {}\n",
    "    for k, v in _results.items():\n",
    "        tool_input = tool_input.replace(k, v)\n",
    "    if tool == \"Google\":\n",
    "        result = search.invoke(tool_input)\n",
    "    elif tool == \"LLM\":\n",
    "        result = model.invoke(tool_input)\n",
    "    else:\n",
    "        raise ValueError\n",
    "    _results[step_name] = str(result)\n",
    "    return {\"results\": _results}"
   ]
  },
  {
   "cell_type": "markdown",
   "id": "28e20b31-d721-470d-94d2-db0c177fae75",
   "metadata": {},
   "source": [
    "## 3. Solver"
   ]
  },
  {
   "cell_type": "code",
   "execution_count": 22,
   "id": "0a4d9851-8590-42be-8c53-9969ebff85f4",
   "metadata": {},
   "outputs": [],
   "source": [
    "solve_prompt = \"\"\"Solve the following task or problem. To solve the problem, we have made step-by-step Plan and \\\n",
    "retrieved corresponding Evidence to each Plan. Use them with caution since long evidence might \\\n",
    "contain irrelevant information.\n",
    "\n",
    "{plan}\n",
    "\n",
    "Now solve the question or task according to provided Evidence above. Respond with the answer\n",
    "directly with no extra words.\n",
    "\n",
    "Task: {task}\n",
    "Response:\"\"\"\n",
    "\n",
    "\n",
    "def solve(state: ReWOO):\n",
    "    plan = \"\"\n",
    "    for _plan, step_name, tool, tool_input in state[\"steps\"]:\n",
    "        _results = state[\"results\"] or {}\n",
    "        for k, v in _results.items():\n",
    "            tool_input = tool_input.replace(k, v)\n",
    "        plan += f\"Plan: {_plan}\\n{step_name} = {tool}[{tool_input}]\"\n",
    "    prompt = solve_prompt.format(plan=plan, task=state[\"task\"])\n",
    "    result = model.invoke(prompt)\n",
    "    return {\"result\": result.content}"
   ]
  },
  {
   "cell_type": "markdown",
   "id": "8ce26c3f-6ced-4a91-a9f2-d0bc235e4010",
   "metadata": {},
   "source": [
    "## 4. Define Graph"
   ]
  },
  {
   "cell_type": "code",
   "execution_count": 23,
   "id": "73b235d7-fa83-4e84-9f2e-2908f16deb26",
   "metadata": {},
   "outputs": [],
   "source": [
    "def _route(state):\n",
    "    _step = _get_current_task(state)\n",
    "    if _step is None:\n",
    "        # We have executed all tasks\n",
    "        return \"solve\"\n",
    "    else:\n",
    "        # We are still executing tasks, loop back to the \"tool\" node\n",
    "        return \"tool\""
   ]
  },
  {
   "cell_type": "code",
   "execution_count": 24,
   "id": "cf173aa1-ce31-4dca-8111-30c91e209652",
   "metadata": {},
   "outputs": [],
   "source": [
    "from langgraph.graph import StateGraph, END\n",
    "\n",
    "graph = StateGraph(ReWOO)\n",
    "graph.add_node(\"plan\", get_plan)\n",
    "graph.add_node(\"tool\", tool_execution)\n",
    "graph.add_node(\"solve\", solve)\n",
    "graph.add_edge(\"plan\", \"tool\")\n",
    "graph.add_edge(\"solve\", END)\n",
    "graph.add_conditional_edges(\"tool\", _route)\n",
    "graph.set_entry_point(\"plan\")\n",
    "\n",
    "app = graph.compile()"
   ]
  },
  {
   "cell_type": "code",
   "execution_count": 27,
   "id": "badaca52-5d55-433f-8770-1bd50c10bf7f",
   "metadata": {},
   "outputs": [
    {
     "name": "stdout",
     "output_type": "stream",
     "text": [
      "{'plan': {'steps': [(\"Since the 2024 Australian Open winner hasn't been determined yet, we cannot know the exact hometown of the winner. However, we can research the past Australian Open winners and their hometowns to provide some context. \", '#E1', 'Google', 'Past Australian Open winners'), ('Use LLM to analyze the search results and identify the hometowns of a few past Australian Open winners. ', '#E2', 'LLM', 'What are the hometowns of some past Australian Open winners, given #E1?'), ('Summarize the hometowns of past Australian Open winners found in #E2. ', '#E3', 'LLM', 'Can you summarize the hometowns of past Australian Open winners you found in #E2?'), ('Present the summary of hometowns of past Australian Open winners as a general context for the 2024 winner. ', '#E4', 'LLM', 'Here are the hometowns of some past Australian Open winners: #E3. The hometown of the 2024 winner is yet to be determined.')], 'plan_string': \"Plan: Since the 2024 Australian Open winner hasn't been determined yet, we cannot know the exact hometown of the winner. However, we can research the past Australian Open winners and their hometowns to provide some context. #E1 = Google[Past Australian Open winners]\\n\\nPlan: Use LLM to analyze the search results and identify the hometowns of a few past Australian Open winners. #E2 = LLM[What are the hometowns of some past Australian Open winners, given #E1?]\\n\\nPlan: Summarize the hometowns of past Australian Open winners found in #E2. #E3 = LLM[Can you summarize the hometowns of past Australian Open winners you found in #E2?]\\n\\nPlan: Present the summary of hometowns of past Australian Open winners as a general context for the 2024 winner. #E4 = LLM[Here are the hometowns of some past Australian Open winners: #E3. The hometown of the 2024 winner is yet to be determined.]\"}}\n",
      "---\n",
      "{'tool': {'results': {'#E1': '[{\\'url\\': \\'https://en.wikipedia.org/wiki/List_of_Australian_Open_champions\\', \\'content\\': \"The following is a list of Australian Open champions in tennis : Champions Senior Wheelchair Junior ‡ Player won both the junior and senior title. † Player won the junior title and reached the senior final. See also Lists of champions of specific events List of Australian Open men\\'s singles champions\"}, {\\'url\\': \\'https://thegolfnewsnet.com/golfnewsnetteam/2024/02/19/mexico-open-at-vidanta-history-results-and-past-winners-129072/\\', \\'content\\': \\'The open field, which is 144 players, is reduced to the top 65 and ties for the final two rounds of the event. At the end of the 72-hole event, the lowest score wins. Mexico Open at Vidanta host ...\\'}, {\\'url\\': \\'https://www.jagranjosh.com/general-knowledge/australian-open-mens-single-winner-list-1705406135-1\\', \\'content\\': \"Home general knowledge Current GK Australian Open Men\\'s Singles Winner List Till 2024 (Open Era) The Australian Open, a prestigious tennis tournament since 1905, takes place at...\"}, {\\'url\\': \\'https://en.wikipedia.org/wiki/2024_Australian_Open\\', \\'content\\': \"The tournament featured the following changes from previous tournaments:[9]\\\\nSingles players[edit]\\\\nEvents[edit]\\\\nMen\\'s singles[edit]\\\\nWomen\\'s singles[edit]\\\\nMen\\'s doubles[edit]\\\\nWomen\\'s doubles[edit]\\\\nMixed doubles[edit]\\\\nWheelchair men\\'s singles[edit]\\\\nWheelchair women\\'s singles[edit]\\\\nWheelchair quad singles[edit]\\\\nWheelchair men\\'s doubles[edit]\\\\nWheelchair women\\'s doubles[edit]\\\\nWheelchair quad doubles[edit]\\\\nBoys\\' singles[edit]\\\\nGirls\\' singles[edit]\\\\nBoys\\' doubles[edit]\\\\nGirls\\' doubles[edit]\\\\nPoints and prize money[edit]\\\\nPoint distribution[edit]\\\\nBelow is a series of tables for each competition showing the ranking points offered for each event.[12][13][14]\\\\nPrize money[edit]\\\\nThe Australian Open total prize money for 2024 increased by 13.07% year on year to a tournament record A$86,500,000. Aryna Sabalenka successfully defended the women\\'s singles title as she claimed her second major singles title, defeating Zheng Qinwen without losing a set during the tournament.[6][7]\\\\nIn the tournament\\'s 119-year history, this was the first Australian Open Tennis Championships to be held on an opening Sunday.[8]\\\\n It was the 112th edition of the Australian Open, the 56th in the Open Era, and the first major of the year. The total represented a 162% increase in prize money over the last ten years, from the A$33 million on offer in 2014.\\\\n Contents\\\\n2024 Australian Open\\\\nThe 2024 Australian Open was a Grand Slam level tennis tournament held at Melbourne Park, from 14–28 January 2024.[1]\"}, {\\'url\\': \"https://en.wikipedia.org/wiki/2024_Australian_Open_–_Men\\'s_singles\", \\'content\\': \\'. Novak Djokovic (semifinals) . Carlos Alcaraz (quarterfinals) . Daniil Medvedev (final) . Jannik Sinner (champion) . Andrey Rublev (quarterfinals) . Alexander Zverev (semifinals) . Stefanos Tsitsipas (fourth round) . Holger Rune (second round) . Hubert Hurkacz (quarterfinals) .\\'}]'}}}\n",
      "---\n",
      "{'tool': {'results': {'#E1': '[{\\'url\\': \\'https://en.wikipedia.org/wiki/List_of_Australian_Open_champions\\', \\'content\\': \"The following is a list of Australian Open champions in tennis : Champions Senior Wheelchair Junior ‡ Player won both the junior and senior title. † Player won the junior title and reached the senior final. See also Lists of champions of specific events List of Australian Open men\\'s singles champions\"}, {\\'url\\': \\'https://thegolfnewsnet.com/golfnewsnetteam/2024/02/19/mexico-open-at-vidanta-history-results-and-past-winners-129072/\\', \\'content\\': \\'The open field, which is 144 players, is reduced to the top 65 and ties for the final two rounds of the event. At the end of the 72-hole event, the lowest score wins. Mexico Open at Vidanta host ...\\'}, {\\'url\\': \\'https://www.jagranjosh.com/general-knowledge/australian-open-mens-single-winner-list-1705406135-1\\', \\'content\\': \"Home general knowledge Current GK Australian Open Men\\'s Singles Winner List Till 2024 (Open Era) The Australian Open, a prestigious tennis tournament since 1905, takes place at...\"}, {\\'url\\': \\'https://en.wikipedia.org/wiki/2024_Australian_Open\\', \\'content\\': \"The tournament featured the following changes from previous tournaments:[9]\\\\nSingles players[edit]\\\\nEvents[edit]\\\\nMen\\'s singles[edit]\\\\nWomen\\'s singles[edit]\\\\nMen\\'s doubles[edit]\\\\nWomen\\'s doubles[edit]\\\\nMixed doubles[edit]\\\\nWheelchair men\\'s singles[edit]\\\\nWheelchair women\\'s singles[edit]\\\\nWheelchair quad singles[edit]\\\\nWheelchair men\\'s doubles[edit]\\\\nWheelchair women\\'s doubles[edit]\\\\nWheelchair quad doubles[edit]\\\\nBoys\\' singles[edit]\\\\nGirls\\' singles[edit]\\\\nBoys\\' doubles[edit]\\\\nGirls\\' doubles[edit]\\\\nPoints and prize money[edit]\\\\nPoint distribution[edit]\\\\nBelow is a series of tables for each competition showing the ranking points offered for each event.[12][13][14]\\\\nPrize money[edit]\\\\nThe Australian Open total prize money for 2024 increased by 13.07% year on year to a tournament record A$86,500,000. Aryna Sabalenka successfully defended the women\\'s singles title as she claimed her second major singles title, defeating Zheng Qinwen without losing a set during the tournament.[6][7]\\\\nIn the tournament\\'s 119-year history, this was the first Australian Open Tennis Championships to be held on an opening Sunday.[8]\\\\n It was the 112th edition of the Australian Open, the 56th in the Open Era, and the first major of the year. The total represented a 162% increase in prize money over the last ten years, from the A$33 million on offer in 2014.\\\\n Contents\\\\n2024 Australian Open\\\\nThe 2024 Australian Open was a Grand Slam level tennis tournament held at Melbourne Park, from 14–28 January 2024.[1]\"}, {\\'url\\': \"https://en.wikipedia.org/wiki/2024_Australian_Open_–_Men\\'s_singles\", \\'content\\': \\'. Novak Djokovic (semifinals) . Carlos Alcaraz (quarterfinals) . Daniil Medvedev (final) . Jannik Sinner (champion) . Andrey Rublev (quarterfinals) . Alexander Zverev (semifinals) . Stefanos Tsitsipas (fourth round) . Holger Rune (second round) . Hubert Hurkacz (quarterfinals) .\\'}]', '#E2': 'content=\"I cannot directly visit websites or scrape information from the internet. However, I can provide you with the hometowns of some past Australian Open men\\'s singles winners based on the data you have given. Here are the hometowns of the winners from 2014 to 2023 (assuming the 2023 winner is the same as the one mentioned for 2024):\\\\n\\\\n1. Stan Wawrinka (Lausanne, Switzerland)\\\\n2. Novak Djokovic (Belgrade, Serbia)\\\\n3. Roger Federer (Basel, Switzerland)\\\\n4. Rafael Nadal (Manacor, Spain)\\\\n5. Novak Djokovic (Belgrade, Serbia)\\\\n6. Roger Federer (Basel, Switzerland)\\\\n7. Novak Djokovic (Belgrade, Serbia)\\\\n8. Dominic Thiem (Wiener Neustadt, Austria)\\\\n9. Novak Djokovic (Belgrade, Serbia)\\\\n10. Daniil Medvedev (Moscow, Russia)\\\\n11. Jannik Sinner (Innichen, Italy)\\\\n\\\\nPlease note that the provided list is based on the limited data given, and it only includes men\\'s singles winners. If you need more information about other events or additional years, you would need to provide the corresponding data.\"'}}}\n",
      "---\n",
      "{'tool': {'results': {'#E1': '[{\\'url\\': \\'https://en.wikipedia.org/wiki/List_of_Australian_Open_champions\\', \\'content\\': \"The following is a list of Australian Open champions in tennis : Champions Senior Wheelchair Junior ‡ Player won both the junior and senior title. † Player won the junior title and reached the senior final. See also Lists of champions of specific events List of Australian Open men\\'s singles champions\"}, {\\'url\\': \\'https://thegolfnewsnet.com/golfnewsnetteam/2024/02/19/mexico-open-at-vidanta-history-results-and-past-winners-129072/\\', \\'content\\': \\'The open field, which is 144 players, is reduced to the top 65 and ties for the final two rounds of the event. At the end of the 72-hole event, the lowest score wins. Mexico Open at Vidanta host ...\\'}, {\\'url\\': \\'https://www.jagranjosh.com/general-knowledge/australian-open-mens-single-winner-list-1705406135-1\\', \\'content\\': \"Home general knowledge Current GK Australian Open Men\\'s Singles Winner List Till 2024 (Open Era) The Australian Open, a prestigious tennis tournament since 1905, takes place at...\"}, {\\'url\\': \\'https://en.wikipedia.org/wiki/2024_Australian_Open\\', \\'content\\': \"The tournament featured the following changes from previous tournaments:[9]\\\\nSingles players[edit]\\\\nEvents[edit]\\\\nMen\\'s singles[edit]\\\\nWomen\\'s singles[edit]\\\\nMen\\'s doubles[edit]\\\\nWomen\\'s doubles[edit]\\\\nMixed doubles[edit]\\\\nWheelchair men\\'s singles[edit]\\\\nWheelchair women\\'s singles[edit]\\\\nWheelchair quad singles[edit]\\\\nWheelchair men\\'s doubles[edit]\\\\nWheelchair women\\'s doubles[edit]\\\\nWheelchair quad doubles[edit]\\\\nBoys\\' singles[edit]\\\\nGirls\\' singles[edit]\\\\nBoys\\' doubles[edit]\\\\nGirls\\' doubles[edit]\\\\nPoints and prize money[edit]\\\\nPoint distribution[edit]\\\\nBelow is a series of tables for each competition showing the ranking points offered for each event.[12][13][14]\\\\nPrize money[edit]\\\\nThe Australian Open total prize money for 2024 increased by 13.07% year on year to a tournament record A$86,500,000. Aryna Sabalenka successfully defended the women\\'s singles title as she claimed her second major singles title, defeating Zheng Qinwen without losing a set during the tournament.[6][7]\\\\nIn the tournament\\'s 119-year history, this was the first Australian Open Tennis Championships to be held on an opening Sunday.[8]\\\\n It was the 112th edition of the Australian Open, the 56th in the Open Era, and the first major of the year. The total represented a 162% increase in prize money over the last ten years, from the A$33 million on offer in 2014.\\\\n Contents\\\\n2024 Australian Open\\\\nThe 2024 Australian Open was a Grand Slam level tennis tournament held at Melbourne Park, from 14–28 January 2024.[1]\"}, {\\'url\\': \"https://en.wikipedia.org/wiki/2024_Australian_Open_–_Men\\'s_singles\", \\'content\\': \\'. Novak Djokovic (semifinals) . Carlos Alcaraz (quarterfinals) . Daniil Medvedev (final) . Jannik Sinner (champion) . Andrey Rublev (quarterfinals) . Alexander Zverev (semifinals) . Stefanos Tsitsipas (fourth round) . Holger Rune (second round) . Hubert Hurkacz (quarterfinals) .\\'}]', '#E2': 'content=\"I cannot directly visit websites or scrape information from the internet. However, I can provide you with the hometowns of some past Australian Open men\\'s singles winners based on the data you have given. Here are the hometowns of the winners from 2014 to 2023 (assuming the 2023 winner is the same as the one mentioned for 2024):\\\\n\\\\n1. Stan Wawrinka (Lausanne, Switzerland)\\\\n2. Novak Djokovic (Belgrade, Serbia)\\\\n3. Roger Federer (Basel, Switzerland)\\\\n4. Rafael Nadal (Manacor, Spain)\\\\n5. Novak Djokovic (Belgrade, Serbia)\\\\n6. Roger Federer (Basel, Switzerland)\\\\n7. Novak Djokovic (Belgrade, Serbia)\\\\n8. Dominic Thiem (Wiener Neustadt, Austria)\\\\n9. Novak Djokovic (Belgrade, Serbia)\\\\n10. Daniil Medvedev (Moscow, Russia)\\\\n11. Jannik Sinner (Innichen, Italy)\\\\n\\\\nPlease note that the provided list is based on the limited data given, and it only includes men\\'s singles winners. If you need more information about other events or additional years, you would need to provide the corresponding data.\"', '#E3': 'content=\"The given content lists the hometowns of the men\\'s singles winners of the Australian Open from 2014 to 2023:\\\\n\\\\n* 2014: Stan Wawrinka, from Lausanne, Switzerland\\\\n* 2015: Novak Djokovic, from Belgrade, Serbia\\\\n* 2016: Roger Federer, from Basel, Switzerland\\\\n* 2017: Rafael Nadal, from Manacor, Spain\\\\n* 2018: Novak Djokovic, from Belgrade, Serbia\\\\n* 2019: Novak Djokovic, from Belgrade, Serbia\\\\n* 2020: Dominic Thiem, from Wiener Neustadt, Austria\\\\n* 2021: Novak Djokovic, from Belgrade, Serbia\\\\n* 2022: Daniil Medvedev, from Moscow, Russia\\\\n* 2023: Jannik Sinner, from Innichen, Italy\\\\n\\\\nAll the winners are from different European countries, with the exception of 2022\\'s winner, Daniil Medvedev, who is from Russia. Novak Djokovic has won the tournament the most times during this period, with a total of 6 wins.\"'}}}\n",
      "---\n",
      "{'tool': {'results': {'#E1': '[{\\'url\\': \\'https://en.wikipedia.org/wiki/List_of_Australian_Open_champions\\', \\'content\\': \"The following is a list of Australian Open champions in tennis : Champions Senior Wheelchair Junior ‡ Player won both the junior and senior title. † Player won the junior title and reached the senior final. See also Lists of champions of specific events List of Australian Open men\\'s singles champions\"}, {\\'url\\': \\'https://thegolfnewsnet.com/golfnewsnetteam/2024/02/19/mexico-open-at-vidanta-history-results-and-past-winners-129072/\\', \\'content\\': \\'The open field, which is 144 players, is reduced to the top 65 and ties for the final two rounds of the event. At the end of the 72-hole event, the lowest score wins. Mexico Open at Vidanta host ...\\'}, {\\'url\\': \\'https://www.jagranjosh.com/general-knowledge/australian-open-mens-single-winner-list-1705406135-1\\', \\'content\\': \"Home general knowledge Current GK Australian Open Men\\'s Singles Winner List Till 2024 (Open Era) The Australian Open, a prestigious tennis tournament since 1905, takes place at...\"}, {\\'url\\': \\'https://en.wikipedia.org/wiki/2024_Australian_Open\\', \\'content\\': \"The tournament featured the following changes from previous tournaments:[9]\\\\nSingles players[edit]\\\\nEvents[edit]\\\\nMen\\'s singles[edit]\\\\nWomen\\'s singles[edit]\\\\nMen\\'s doubles[edit]\\\\nWomen\\'s doubles[edit]\\\\nMixed doubles[edit]\\\\nWheelchair men\\'s singles[edit]\\\\nWheelchair women\\'s singles[edit]\\\\nWheelchair quad singles[edit]\\\\nWheelchair men\\'s doubles[edit]\\\\nWheelchair women\\'s doubles[edit]\\\\nWheelchair quad doubles[edit]\\\\nBoys\\' singles[edit]\\\\nGirls\\' singles[edit]\\\\nBoys\\' doubles[edit]\\\\nGirls\\' doubles[edit]\\\\nPoints and prize money[edit]\\\\nPoint distribution[edit]\\\\nBelow is a series of tables for each competition showing the ranking points offered for each event.[12][13][14]\\\\nPrize money[edit]\\\\nThe Australian Open total prize money for 2024 increased by 13.07% year on year to a tournament record A$86,500,000. Aryna Sabalenka successfully defended the women\\'s singles title as she claimed her second major singles title, defeating Zheng Qinwen without losing a set during the tournament.[6][7]\\\\nIn the tournament\\'s 119-year history, this was the first Australian Open Tennis Championships to be held on an opening Sunday.[8]\\\\n It was the 112th edition of the Australian Open, the 56th in the Open Era, and the first major of the year. The total represented a 162% increase in prize money over the last ten years, from the A$33 million on offer in 2014.\\\\n Contents\\\\n2024 Australian Open\\\\nThe 2024 Australian Open was a Grand Slam level tennis tournament held at Melbourne Park, from 14–28 January 2024.[1]\"}, {\\'url\\': \"https://en.wikipedia.org/wiki/2024_Australian_Open_–_Men\\'s_singles\", \\'content\\': \\'. Novak Djokovic (semifinals) . Carlos Alcaraz (quarterfinals) . Daniil Medvedev (final) . Jannik Sinner (champion) . Andrey Rublev (quarterfinals) . Alexander Zverev (semifinals) . Stefanos Tsitsipas (fourth round) . Holger Rune (second round) . Hubert Hurkacz (quarterfinals) .\\'}]', '#E2': 'content=\"I cannot directly visit websites or scrape information from the internet. However, I can provide you with the hometowns of some past Australian Open men\\'s singles winners based on the data you have given. Here are the hometowns of the winners from 2014 to 2023 (assuming the 2023 winner is the same as the one mentioned for 2024):\\\\n\\\\n1. Stan Wawrinka (Lausanne, Switzerland)\\\\n2. Novak Djokovic (Belgrade, Serbia)\\\\n3. Roger Federer (Basel, Switzerland)\\\\n4. Rafael Nadal (Manacor, Spain)\\\\n5. Novak Djokovic (Belgrade, Serbia)\\\\n6. Roger Federer (Basel, Switzerland)\\\\n7. Novak Djokovic (Belgrade, Serbia)\\\\n8. Dominic Thiem (Wiener Neustadt, Austria)\\\\n9. Novak Djokovic (Belgrade, Serbia)\\\\n10. Daniil Medvedev (Moscow, Russia)\\\\n11. Jannik Sinner (Innichen, Italy)\\\\n\\\\nPlease note that the provided list is based on the limited data given, and it only includes men\\'s singles winners. If you need more information about other events or additional years, you would need to provide the corresponding data.\"', '#E3': 'content=\"The given content lists the hometowns of the men\\'s singles winners of the Australian Open from 2014 to 2023:\\\\n\\\\n* 2014: Stan Wawrinka, from Lausanne, Switzerland\\\\n* 2015: Novak Djokovic, from Belgrade, Serbia\\\\n* 2016: Roger Federer, from Basel, Switzerland\\\\n* 2017: Rafael Nadal, from Manacor, Spain\\\\n* 2018: Novak Djokovic, from Belgrade, Serbia\\\\n* 2019: Novak Djokovic, from Belgrade, Serbia\\\\n* 2020: Dominic Thiem, from Wiener Neustadt, Austria\\\\n* 2021: Novak Djokovic, from Belgrade, Serbia\\\\n* 2022: Daniil Medvedev, from Moscow, Russia\\\\n* 2023: Jannik Sinner, from Innichen, Italy\\\\n\\\\nAll the winners are from different European countries, with the exception of 2022\\'s winner, Daniil Medvedev, who is from Russia. Novak Djokovic has won the tournament the most times during this period, with a total of 6 wins.\"', '#E4': 'content=\"The hometown of the 2024 Australian Open men\\'s singles winner is yet to be determined. The list of hometowns for the winners from 2014 to 2023 is as follows:\\\\n\\\\n* 2014: Stan Wawrinka, from Lausanne, Switzerland\\\\n* 2015: Novak Djokovic, from Belgrade, Serbia\\\\n* 2016: Roger Federer, from Basel, Switzerland\\\\n* 2017: Rafael Nadal, from Manacor, Spain\\\\n* 2018: Novak Djokovic, from Belgrade, Serbia\\\\n* 2019: Novak Djokovic, from Belgrade, Serbia\\\\n* 2020: Dominic Thiem, from Wiener Neustadt, Austria\\\\n* 2021: Novak Djokovic, from Belgrade, Serbia\\\\n* 2022: Daniil Medvedev, from Moscow, Russia\\\\n* 2023: Jannik Sinner, from Innichen, Italy\\\\n\\\\nNote that Novak Djokovic has won the tournament the most times during this period, with a total of 6 wins.\"'}}}\n",
      "---\n",
      "{'solve': {'result': 'The hometown of the 2024 Australian Open winner is yet to be determined.'}}\n",
      "---\n",
      "{'__end__': {'task': 'what is the hometown of the 2024 australian open winner', 'plan_string': \"Plan: Since the 2024 Australian Open winner hasn't been determined yet, we cannot know the exact hometown of the winner. However, we can research the past Australian Open winners and their hometowns to provide some context. #E1 = Google[Past Australian Open winners]\\n\\nPlan: Use LLM to analyze the search results and identify the hometowns of a few past Australian Open winners. #E2 = LLM[What are the hometowns of some past Australian Open winners, given #E1?]\\n\\nPlan: Summarize the hometowns of past Australian Open winners found in #E2. #E3 = LLM[Can you summarize the hometowns of past Australian Open winners you found in #E2?]\\n\\nPlan: Present the summary of hometowns of past Australian Open winners as a general context for the 2024 winner. #E4 = LLM[Here are the hometowns of some past Australian Open winners: #E3. The hometown of the 2024 winner is yet to be determined.]\", 'steps': [(\"Since the 2024 Australian Open winner hasn't been determined yet, we cannot know the exact hometown of the winner. However, we can research the past Australian Open winners and their hometowns to provide some context. \", '#E1', 'Google', 'Past Australian Open winners'), ('Use LLM to analyze the search results and identify the hometowns of a few past Australian Open winners. ', '#E2', 'LLM', 'What are the hometowns of some past Australian Open winners, given #E1?'), ('Summarize the hometowns of past Australian Open winners found in #E2. ', '#E3', 'LLM', 'Can you summarize the hometowns of past Australian Open winners you found in #E2?'), ('Present the summary of hometowns of past Australian Open winners as a general context for the 2024 winner. ', '#E4', 'LLM', 'Here are the hometowns of some past Australian Open winners: #E3. The hometown of the 2024 winner is yet to be determined.')], 'results': {'#E1': '[{\\'url\\': \\'https://en.wikipedia.org/wiki/List_of_Australian_Open_champions\\', \\'content\\': \"The following is a list of Australian Open champions in tennis : Champions Senior Wheelchair Junior ‡ Player won both the junior and senior title. † Player won the junior title and reached the senior final. See also Lists of champions of specific events List of Australian Open men\\'s singles champions\"}, {\\'url\\': \\'https://thegolfnewsnet.com/golfnewsnetteam/2024/02/19/mexico-open-at-vidanta-history-results-and-past-winners-129072/\\', \\'content\\': \\'The open field, which is 144 players, is reduced to the top 65 and ties for the final two rounds of the event. At the end of the 72-hole event, the lowest score wins. Mexico Open at Vidanta host ...\\'}, {\\'url\\': \\'https://www.jagranjosh.com/general-knowledge/australian-open-mens-single-winner-list-1705406135-1\\', \\'content\\': \"Home general knowledge Current GK Australian Open Men\\'s Singles Winner List Till 2024 (Open Era) The Australian Open, a prestigious tennis tournament since 1905, takes place at...\"}, {\\'url\\': \\'https://en.wikipedia.org/wiki/2024_Australian_Open\\', \\'content\\': \"The tournament featured the following changes from previous tournaments:[9]\\\\nSingles players[edit]\\\\nEvents[edit]\\\\nMen\\'s singles[edit]\\\\nWomen\\'s singles[edit]\\\\nMen\\'s doubles[edit]\\\\nWomen\\'s doubles[edit]\\\\nMixed doubles[edit]\\\\nWheelchair men\\'s singles[edit]\\\\nWheelchair women\\'s singles[edit]\\\\nWheelchair quad singles[edit]\\\\nWheelchair men\\'s doubles[edit]\\\\nWheelchair women\\'s doubles[edit]\\\\nWheelchair quad doubles[edit]\\\\nBoys\\' singles[edit]\\\\nGirls\\' singles[edit]\\\\nBoys\\' doubles[edit]\\\\nGirls\\' doubles[edit]\\\\nPoints and prize money[edit]\\\\nPoint distribution[edit]\\\\nBelow is a series of tables for each competition showing the ranking points offered for each event.[12][13][14]\\\\nPrize money[edit]\\\\nThe Australian Open total prize money for 2024 increased by 13.07% year on year to a tournament record A$86,500,000. Aryna Sabalenka successfully defended the women\\'s singles title as she claimed her second major singles title, defeating Zheng Qinwen without losing a set during the tournament.[6][7]\\\\nIn the tournament\\'s 119-year history, this was the first Australian Open Tennis Championships to be held on an opening Sunday.[8]\\\\n It was the 112th edition of the Australian Open, the 56th in the Open Era, and the first major of the year. The total represented a 162% increase in prize money over the last ten years, from the A$33 million on offer in 2014.\\\\n Contents\\\\n2024 Australian Open\\\\nThe 2024 Australian Open was a Grand Slam level tennis tournament held at Melbourne Park, from 14–28 January 2024.[1]\"}, {\\'url\\': \"https://en.wikipedia.org/wiki/2024_Australian_Open_–_Men\\'s_singles\", \\'content\\': \\'. Novak Djokovic (semifinals) . Carlos Alcaraz (quarterfinals) . Daniil Medvedev (final) . Jannik Sinner (champion) . Andrey Rublev (quarterfinals) . Alexander Zverev (semifinals) . Stefanos Tsitsipas (fourth round) . Holger Rune (second round) . Hubert Hurkacz (quarterfinals) .\\'}]', '#E2': 'content=\"I cannot directly visit websites or scrape information from the internet. However, I can provide you with the hometowns of some past Australian Open men\\'s singles winners based on the data you have given. Here are the hometowns of the winners from 2014 to 2023 (assuming the 2023 winner is the same as the one mentioned for 2024):\\\\n\\\\n1. Stan Wawrinka (Lausanne, Switzerland)\\\\n2. Novak Djokovic (Belgrade, Serbia)\\\\n3. Roger Federer (Basel, Switzerland)\\\\n4. Rafael Nadal (Manacor, Spain)\\\\n5. Novak Djokovic (Belgrade, Serbia)\\\\n6. Roger Federer (Basel, Switzerland)\\\\n7. Novak Djokovic (Belgrade, Serbia)\\\\n8. Dominic Thiem (Wiener Neustadt, Austria)\\\\n9. Novak Djokovic (Belgrade, Serbia)\\\\n10. Daniil Medvedev (Moscow, Russia)\\\\n11. Jannik Sinner (Innichen, Italy)\\\\n\\\\nPlease note that the provided list is based on the limited data given, and it only includes men\\'s singles winners. If you need more information about other events or additional years, you would need to provide the corresponding data.\"', '#E3': 'content=\"The given content lists the hometowns of the men\\'s singles winners of the Australian Open from 2014 to 2023:\\\\n\\\\n* 2014: Stan Wawrinka, from Lausanne, Switzerland\\\\n* 2015: Novak Djokovic, from Belgrade, Serbia\\\\n* 2016: Roger Federer, from Basel, Switzerland\\\\n* 2017: Rafael Nadal, from Manacor, Spain\\\\n* 2018: Novak Djokovic, from Belgrade, Serbia\\\\n* 2019: Novak Djokovic, from Belgrade, Serbia\\\\n* 2020: Dominic Thiem, from Wiener Neustadt, Austria\\\\n* 2021: Novak Djokovic, from Belgrade, Serbia\\\\n* 2022: Daniil Medvedev, from Moscow, Russia\\\\n* 2023: Jannik Sinner, from Innichen, Italy\\\\n\\\\nAll the winners are from different European countries, with the exception of 2022\\'s winner, Daniil Medvedev, who is from Russia. Novak Djokovic has won the tournament the most times during this period, with a total of 6 wins.\"', '#E4': 'content=\"The hometown of the 2024 Australian Open men\\'s singles winner is yet to be determined. The list of hometowns for the winners from 2014 to 2023 is as follows:\\\\n\\\\n* 2014: Stan Wawrinka, from Lausanne, Switzerland\\\\n* 2015: Novak Djokovic, from Belgrade, Serbia\\\\n* 2016: Roger Federer, from Basel, Switzerland\\\\n* 2017: Rafael Nadal, from Manacor, Spain\\\\n* 2018: Novak Djokovic, from Belgrade, Serbia\\\\n* 2019: Novak Djokovic, from Belgrade, Serbia\\\\n* 2020: Dominic Thiem, from Wiener Neustadt, Austria\\\\n* 2021: Novak Djokovic, from Belgrade, Serbia\\\\n* 2022: Daniil Medvedev, from Moscow, Russia\\\\n* 2023: Jannik Sinner, from Innichen, Italy\\\\n\\\\nNote that Novak Djokovic has won the tournament the most times during this period, with a total of 6 wins.\"'}, 'result': 'The hometown of the 2024 Australian Open winner is yet to be determined.'}}\n",
      "---\n"
     ]
    }
   ],
   "source": [
    "for s in app.stream({\"task\": task}):\n",
    "    print(s)\n",
    "    print(\"---\")"
   ]
  },
  {
   "cell_type": "code",
   "execution_count": 26,
   "id": "70e5aa0f-4d8b-4f65-817a-1c4ebf07d07a",
   "metadata": {},
   "outputs": [
    {
     "name": "stdout",
     "output_type": "stream",
     "text": [
      "Melbourne\n"
     ]
    }
   ],
   "source": [
    "# Print out the final result\n",
    "print(s[END][\"result\"])"
   ]
  },
  {
   "cell_type": "markdown",
   "id": "842954d7-0de0-4876-be63-46b4e14157b0",
   "metadata": {},
   "source": [
    "## Conclusion\n",
    "\n",
    "Congratulations on implementing ReWOO! Before you leave, I'll leave you with a couple limitations of the current implementation from the paper:\n",
    "\n",
    "1. If little context of the environment is available, the planner will be ineffective in its tool use. This can typically be ameliorated through few-shot prompting and/or fine-tuning.\n",
    "2. The tasks are still executed in sequence, meaning the total execution time is impacted by _every_ tool call, not just he longest-running in a given step."
   ]
  }
 ],
 "metadata": {
  "kernelspec": {
   "display_name": "Python 3 (ipykernel)",
   "language": "python",
   "name": "python3"
  },
  "language_info": {
   "codemirror_mode": {
    "name": "ipython",
    "version": 3
   },
   "file_extension": ".py",
   "mimetype": "text/x-python",
   "name": "python",
   "nbconvert_exporter": "python",
   "pygments_lexer": "ipython3",
   "version": "3.9.16"
  }
 },
 "nbformat": 4,
 "nbformat_minor": 5
}
